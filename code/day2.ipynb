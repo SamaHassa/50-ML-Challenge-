{
 "cells": [
  {
   "cell_type": "markdown",
   "id": "ce3321d5",
   "metadata": {},
   "source": [
    "![Data Preprocessing Day 2](https://github.com/Avik-Jain/100-Days-Of-ML-Code/raw/master/Info-graphs/Day%202.jpg)\n"
   ]
  },
  {
   "cell_type": "code",
   "execution_count": null,
   "id": "d1cdcf89",
   "metadata": {
    "vscode": {
     "languageId": "plaintext"
    }
   },
   "outputs": [],
   "source": []
  }
 ],
 "metadata": {
  "language_info": {
   "name": "python"
  }
 },
 "nbformat": 4,
 "nbformat_minor": 5
}
